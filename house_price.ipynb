{
 "metadata": {
  "language_info": {
   "codemirror_mode": {
    "name": "ipython",
    "version": 3
   },
   "file_extension": ".py",
   "mimetype": "text/x-python",
   "name": "python",
   "nbconvert_exporter": "python",
   "pygments_lexer": "ipython3",
   "version": "3.8.3-final"
  },
  "orig_nbformat": 2,
  "kernelspec": {
   "name": "python3",
   "display_name": "Python 3"
  }
 },
 "nbformat": 4,
 "nbformat_minor": 2,
 "cells": [
  {
   "cell_type": "code",
   "execution_count": 1,
   "metadata": {},
   "outputs": [
    {
     "output_type": "execute_result",
     "data": {
      "text/plain": "                  date      price  bedrooms  bathrooms  sqft_living  sqft_lot  \\\n0  2014-05-02 00:00:00   313000.0       3.0       1.50         1340      7912   \n1  2014-05-02 00:00:00  2384000.0       5.0       2.50         3650      9050   \n2  2014-05-02 00:00:00   342000.0       3.0       2.00         1930     11947   \n3  2014-05-02 00:00:00   420000.0       3.0       2.25         2000      8030   \n4  2014-05-02 00:00:00   550000.0       4.0       2.50         1940     10500   \n\n   floors  waterfront  view  condition  sqft_above  sqft_basement  yr_built  \\\n0     1.5           0     0          3        1340              0      1955   \n1     2.0           0     4          5        3370            280      1921   \n2     1.0           0     0          4        1930              0      1966   \n3     1.0           0     0          4        1000           1000      1963   \n4     1.0           0     0          4        1140            800      1976   \n\n   yr_renovated                    street       city  statezip country  \n0          2005      18810 Densmore Ave N  Shoreline  WA 98133     USA  \n1             0           709 W Blaine St    Seattle  WA 98119     USA  \n2             0  26206-26214 143rd Ave SE       Kent  WA 98042     USA  \n3             0           857 170th Pl NE   Bellevue  WA 98008     USA  \n4          1992         9105 170th Ave NE    Redmond  WA 98052     USA  ",
      "text/html": "<div>\n<style scoped>\n    .dataframe tbody tr th:only-of-type {\n        vertical-align: middle;\n    }\n\n    .dataframe tbody tr th {\n        vertical-align: top;\n    }\n\n    .dataframe thead th {\n        text-align: right;\n    }\n</style>\n<table border=\"1\" class=\"dataframe\">\n  <thead>\n    <tr style=\"text-align: right;\">\n      <th></th>\n      <th>date</th>\n      <th>price</th>\n      <th>bedrooms</th>\n      <th>bathrooms</th>\n      <th>sqft_living</th>\n      <th>sqft_lot</th>\n      <th>floors</th>\n      <th>waterfront</th>\n      <th>view</th>\n      <th>condition</th>\n      <th>sqft_above</th>\n      <th>sqft_basement</th>\n      <th>yr_built</th>\n      <th>yr_renovated</th>\n      <th>street</th>\n      <th>city</th>\n      <th>statezip</th>\n      <th>country</th>\n    </tr>\n  </thead>\n  <tbody>\n    <tr>\n      <th>0</th>\n      <td>2014-05-02 00:00:00</td>\n      <td>313000.0</td>\n      <td>3.0</td>\n      <td>1.50</td>\n      <td>1340</td>\n      <td>7912</td>\n      <td>1.5</td>\n      <td>0</td>\n      <td>0</td>\n      <td>3</td>\n      <td>1340</td>\n      <td>0</td>\n      <td>1955</td>\n      <td>2005</td>\n      <td>18810 Densmore Ave N</td>\n      <td>Shoreline</td>\n      <td>WA 98133</td>\n      <td>USA</td>\n    </tr>\n    <tr>\n      <th>1</th>\n      <td>2014-05-02 00:00:00</td>\n      <td>2384000.0</td>\n      <td>5.0</td>\n      <td>2.50</td>\n      <td>3650</td>\n      <td>9050</td>\n      <td>2.0</td>\n      <td>0</td>\n      <td>4</td>\n      <td>5</td>\n      <td>3370</td>\n      <td>280</td>\n      <td>1921</td>\n      <td>0</td>\n      <td>709 W Blaine St</td>\n      <td>Seattle</td>\n      <td>WA 98119</td>\n      <td>USA</td>\n    </tr>\n    <tr>\n      <th>2</th>\n      <td>2014-05-02 00:00:00</td>\n      <td>342000.0</td>\n      <td>3.0</td>\n      <td>2.00</td>\n      <td>1930</td>\n      <td>11947</td>\n      <td>1.0</td>\n      <td>0</td>\n      <td>0</td>\n      <td>4</td>\n      <td>1930</td>\n      <td>0</td>\n      <td>1966</td>\n      <td>0</td>\n      <td>26206-26214 143rd Ave SE</td>\n      <td>Kent</td>\n      <td>WA 98042</td>\n      <td>USA</td>\n    </tr>\n    <tr>\n      <th>3</th>\n      <td>2014-05-02 00:00:00</td>\n      <td>420000.0</td>\n      <td>3.0</td>\n      <td>2.25</td>\n      <td>2000</td>\n      <td>8030</td>\n      <td>1.0</td>\n      <td>0</td>\n      <td>0</td>\n      <td>4</td>\n      <td>1000</td>\n      <td>1000</td>\n      <td>1963</td>\n      <td>0</td>\n      <td>857 170th Pl NE</td>\n      <td>Bellevue</td>\n      <td>WA 98008</td>\n      <td>USA</td>\n    </tr>\n    <tr>\n      <th>4</th>\n      <td>2014-05-02 00:00:00</td>\n      <td>550000.0</td>\n      <td>4.0</td>\n      <td>2.50</td>\n      <td>1940</td>\n      <td>10500</td>\n      <td>1.0</td>\n      <td>0</td>\n      <td>0</td>\n      <td>4</td>\n      <td>1140</td>\n      <td>800</td>\n      <td>1976</td>\n      <td>1992</td>\n      <td>9105 170th Ave NE</td>\n      <td>Redmond</td>\n      <td>WA 98052</td>\n      <td>USA</td>\n    </tr>\n  </tbody>\n</table>\n</div>"
     },
     "metadata": {},
     "execution_count": 1
    }
   ],
   "source": [
    "import pandas as pd \n",
    "import numpy as np \n",
    "\n",
    "house_data = pd.read_csv(\"data.csv\")\n",
    "\n",
    "house_data.head()"
   ]
  },
  {
   "cell_type": "code",
   "execution_count": 2,
   "metadata": {
    "tags": []
   },
   "outputs": [
    {
     "output_type": "stream",
     "name": "stdout",
     "text": "<class 'pandas.core.frame.DataFrame'>\nRangeIndex: 4600 entries, 0 to 4599\nData columns (total 18 columns):\n #   Column         Non-Null Count  Dtype  \n---  ------         --------------  -----  \n 0   date           4600 non-null   object \n 1   price          4600 non-null   float64\n 2   bedrooms       4600 non-null   float64\n 3   bathrooms      4600 non-null   float64\n 4   sqft_living    4600 non-null   int64  \n 5   sqft_lot       4600 non-null   int64  \n 6   floors         4600 non-null   float64\n 7   waterfront     4600 non-null   int64  \n 8   view           4600 non-null   int64  \n 9   condition      4600 non-null   int64  \n 10  sqft_above     4600 non-null   int64  \n 11  sqft_basement  4600 non-null   int64  \n 12  yr_built       4600 non-null   int64  \n 13  yr_renovated   4600 non-null   int64  \n 14  street         4600 non-null   object \n 15  city           4600 non-null   object \n 16  statezip       4600 non-null   object \n 17  country        4600 non-null   object \ndtypes: float64(4), int64(9), object(5)\nmemory usage: 647.0+ KB\n"
    }
   ],
   "source": [
    "house_data.info()"
   ]
  },
  {
   "cell_type": "code",
   "execution_count": 3,
   "metadata": {},
   "outputs": [
    {
     "output_type": "execute_result",
     "data": {
      "text/plain": "date               70\nprice            1741\nbedrooms           10\nbathrooms          26\nsqft_living       566\nsqft_lot         3113\nfloors              6\nwaterfront          2\nview                5\ncondition           5\nsqft_above        511\nsqft_basement     207\nyr_built          115\nyr_renovated       60\nstreet           4525\ncity               44\nstatezip           77\ncountry             1\ndtype: int64"
     },
     "metadata": {},
     "execution_count": 3
    }
   ],
   "source": [
    "house_data.nunique()"
   ]
  },
  {
   "cell_type": "code",
   "execution_count": 4,
   "metadata": {},
   "outputs": [
    {
     "output_type": "execute_result",
     "data": {
      "text/plain": "              price     bedrooms    bathrooms   sqft_living      sqft_lot  \\\ncount  4.600000e+03  4600.000000  4600.000000   4600.000000  4.600000e+03   \nmean   5.519630e+05     3.400870     2.160815   2139.346957  1.485252e+04   \nstd    5.638347e+05     0.908848     0.783781    963.206916  3.588444e+04   \nmin    0.000000e+00     0.000000     0.000000    370.000000  6.380000e+02   \n25%    3.228750e+05     3.000000     1.750000   1460.000000  5.000750e+03   \n50%    4.609435e+05     3.000000     2.250000   1980.000000  7.683000e+03   \n75%    6.549625e+05     4.000000     2.500000   2620.000000  1.100125e+04   \nmax    2.659000e+07     9.000000     8.000000  13540.000000  1.074218e+06   \n\n            floors   waterfront         view    condition   sqft_above  \\\ncount  4600.000000  4600.000000  4600.000000  4600.000000  4600.000000   \nmean      1.512065     0.007174     0.240652     3.451739  1827.265435   \nstd       0.538288     0.084404     0.778405     0.677230   862.168977   \nmin       1.000000     0.000000     0.000000     1.000000   370.000000   \n25%       1.000000     0.000000     0.000000     3.000000  1190.000000   \n50%       1.500000     0.000000     0.000000     3.000000  1590.000000   \n75%       2.000000     0.000000     0.000000     4.000000  2300.000000   \nmax       3.500000     1.000000     4.000000     5.000000  9410.000000   \n\n       sqft_basement     yr_built  yr_renovated  \ncount    4600.000000  4600.000000   4600.000000  \nmean      312.081522  1970.786304    808.608261  \nstd       464.137228    29.731848    979.414536  \nmin         0.000000  1900.000000      0.000000  \n25%         0.000000  1951.000000      0.000000  \n50%         0.000000  1976.000000      0.000000  \n75%       610.000000  1997.000000   1999.000000  \nmax      4820.000000  2014.000000   2014.000000  ",
      "text/html": "<div>\n<style scoped>\n    .dataframe tbody tr th:only-of-type {\n        vertical-align: middle;\n    }\n\n    .dataframe tbody tr th {\n        vertical-align: top;\n    }\n\n    .dataframe thead th {\n        text-align: right;\n    }\n</style>\n<table border=\"1\" class=\"dataframe\">\n  <thead>\n    <tr style=\"text-align: right;\">\n      <th></th>\n      <th>price</th>\n      <th>bedrooms</th>\n      <th>bathrooms</th>\n      <th>sqft_living</th>\n      <th>sqft_lot</th>\n      <th>floors</th>\n      <th>waterfront</th>\n      <th>view</th>\n      <th>condition</th>\n      <th>sqft_above</th>\n      <th>sqft_basement</th>\n      <th>yr_built</th>\n      <th>yr_renovated</th>\n    </tr>\n  </thead>\n  <tbody>\n    <tr>\n      <th>count</th>\n      <td>4.600000e+03</td>\n      <td>4600.000000</td>\n      <td>4600.000000</td>\n      <td>4600.000000</td>\n      <td>4.600000e+03</td>\n      <td>4600.000000</td>\n      <td>4600.000000</td>\n      <td>4600.000000</td>\n      <td>4600.000000</td>\n      <td>4600.000000</td>\n      <td>4600.000000</td>\n      <td>4600.000000</td>\n      <td>4600.000000</td>\n    </tr>\n    <tr>\n      <th>mean</th>\n      <td>5.519630e+05</td>\n      <td>3.400870</td>\n      <td>2.160815</td>\n      <td>2139.346957</td>\n      <td>1.485252e+04</td>\n      <td>1.512065</td>\n      <td>0.007174</td>\n      <td>0.240652</td>\n      <td>3.451739</td>\n      <td>1827.265435</td>\n      <td>312.081522</td>\n      <td>1970.786304</td>\n      <td>808.608261</td>\n    </tr>\n    <tr>\n      <th>std</th>\n      <td>5.638347e+05</td>\n      <td>0.908848</td>\n      <td>0.783781</td>\n      <td>963.206916</td>\n      <td>3.588444e+04</td>\n      <td>0.538288</td>\n      <td>0.084404</td>\n      <td>0.778405</td>\n      <td>0.677230</td>\n      <td>862.168977</td>\n      <td>464.137228</td>\n      <td>29.731848</td>\n      <td>979.414536</td>\n    </tr>\n    <tr>\n      <th>min</th>\n      <td>0.000000e+00</td>\n      <td>0.000000</td>\n      <td>0.000000</td>\n      <td>370.000000</td>\n      <td>6.380000e+02</td>\n      <td>1.000000</td>\n      <td>0.000000</td>\n      <td>0.000000</td>\n      <td>1.000000</td>\n      <td>370.000000</td>\n      <td>0.000000</td>\n      <td>1900.000000</td>\n      <td>0.000000</td>\n    </tr>\n    <tr>\n      <th>25%</th>\n      <td>3.228750e+05</td>\n      <td>3.000000</td>\n      <td>1.750000</td>\n      <td>1460.000000</td>\n      <td>5.000750e+03</td>\n      <td>1.000000</td>\n      <td>0.000000</td>\n      <td>0.000000</td>\n      <td>3.000000</td>\n      <td>1190.000000</td>\n      <td>0.000000</td>\n      <td>1951.000000</td>\n      <td>0.000000</td>\n    </tr>\n    <tr>\n      <th>50%</th>\n      <td>4.609435e+05</td>\n      <td>3.000000</td>\n      <td>2.250000</td>\n      <td>1980.000000</td>\n      <td>7.683000e+03</td>\n      <td>1.500000</td>\n      <td>0.000000</td>\n      <td>0.000000</td>\n      <td>3.000000</td>\n      <td>1590.000000</td>\n      <td>0.000000</td>\n      <td>1976.000000</td>\n      <td>0.000000</td>\n    </tr>\n    <tr>\n      <th>75%</th>\n      <td>6.549625e+05</td>\n      <td>4.000000</td>\n      <td>2.500000</td>\n      <td>2620.000000</td>\n      <td>1.100125e+04</td>\n      <td>2.000000</td>\n      <td>0.000000</td>\n      <td>0.000000</td>\n      <td>4.000000</td>\n      <td>2300.000000</td>\n      <td>610.000000</td>\n      <td>1997.000000</td>\n      <td>1999.000000</td>\n    </tr>\n    <tr>\n      <th>max</th>\n      <td>2.659000e+07</td>\n      <td>9.000000</td>\n      <td>8.000000</td>\n      <td>13540.000000</td>\n      <td>1.074218e+06</td>\n      <td>3.500000</td>\n      <td>1.000000</td>\n      <td>4.000000</td>\n      <td>5.000000</td>\n      <td>9410.000000</td>\n      <td>4820.000000</td>\n      <td>2014.000000</td>\n      <td>2014.000000</td>\n    </tr>\n  </tbody>\n</table>\n</div>"
     },
     "metadata": {},
     "execution_count": 4
    }
   ],
   "source": [
    "house_data.describe()"
   ]
  },
  {
   "cell_type": "markdown",
   "metadata": {},
   "source": [
    "Whoa! Minimum price is zero!"
   ]
  },
  {
   "cell_type": "code",
   "execution_count": 5,
   "metadata": {},
   "outputs": [
    {
     "output_type": "execute_result",
     "data": {
      "text/plain": "0.0         49\n300000.0    42\n400000.0    31\n450000.0    29\n600000.0    29\n            ..\n586500.0     1\n693000.0     1\n226500.0     1\n257200.0     1\n256000.0     1\nName: price, Length: 1741, dtype: int64"
     },
     "metadata": {},
     "execution_count": 5
    }
   ],
   "source": [
    "house_data['price'].value_counts()"
   ]
  },
  {
   "cell_type": "markdown",
   "metadata": {},
   "source": [
    "49 rows with a price of $0! The dataset is large enough that we can probably just drop these. "
   ]
  },
  {
   "cell_type": "code",
   "execution_count": 6,
   "metadata": {},
   "outputs": [],
   "source": [
    "house_data = house_data[house_data['price'] > 0]"
   ]
  },
  {
   "cell_type": "code",
   "execution_count": 7,
   "metadata": {
    "tags": []
   },
   "outputs": [
    {
     "output_type": "stream",
     "name": "stdout",
     "text": "<class 'pandas.core.frame.DataFrame'>\nInt64Index: 4551 entries, 0 to 4599\nData columns (total 18 columns):\n #   Column         Non-Null Count  Dtype  \n---  ------         --------------  -----  \n 0   date           4551 non-null   object \n 1   price          4551 non-null   float64\n 2   bedrooms       4551 non-null   float64\n 3   bathrooms      4551 non-null   float64\n 4   sqft_living    4551 non-null   int64  \n 5   sqft_lot       4551 non-null   int64  \n 6   floors         4551 non-null   float64\n 7   waterfront     4551 non-null   int64  \n 8   view           4551 non-null   int64  \n 9   condition      4551 non-null   int64  \n 10  sqft_above     4551 non-null   int64  \n 11  sqft_basement  4551 non-null   int64  \n 12  yr_built       4551 non-null   int64  \n 13  yr_renovated   4551 non-null   int64  \n 14  street         4551 non-null   object \n 15  city           4551 non-null   object \n 16  statezip       4551 non-null   object \n 17  country        4551 non-null   object \ndtypes: float64(4), int64(9), object(5)\nmemory usage: 675.5+ KB\n"
    }
   ],
   "source": [
    "house_data.info()"
   ]
  },
  {
   "cell_type": "code",
   "execution_count": 8,
   "metadata": {},
   "outputs": [
    {
     "output_type": "execute_result",
     "data": {
      "text/plain": "              price     bedrooms    bathrooms   sqft_living      sqft_lot  \\\ncount  4.551000e+03  4551.000000  4551.000000   4551.000000  4.551000e+03   \nmean   5.579059e+05     3.394639     2.155021   2132.372226  1.483528e+04   \nstd    5.639299e+05     0.904595     0.776351    955.949708  3.596408e+04   \nmin    7.800000e+03     0.000000     0.000000    370.000000  6.380000e+02   \n25%    3.262643e+05     3.000000     1.750000   1460.000000  5.000000e+03   \n50%    4.650000e+05     3.000000     2.250000   1970.000000  7.680000e+03   \n75%    6.575000e+05     4.000000     2.500000   2610.000000  1.097800e+04   \nmax    2.659000e+07     9.000000     8.000000  13540.000000  1.074218e+06   \n\n            floors   waterfront         view    condition   sqft_above  \\\ncount  4551.000000  4551.000000  4551.000000  4551.000000  4551.000000   \nmean      1.512195     0.006592     0.234674     3.449352  1822.221710   \nstd       0.538531     0.080932     0.765373     0.675160   854.452888   \nmin       1.000000     0.000000     0.000000     1.000000   370.000000   \n25%       1.000000     0.000000     0.000000     3.000000  1190.000000   \n50%       1.500000     0.000000     0.000000     3.000000  1590.000000   \n75%       2.000000     0.000000     0.000000     4.000000  2300.000000   \nmax       3.500000     1.000000     4.000000     5.000000  9410.000000   \n\n       sqft_basement     yr_built  yr_renovated  \ncount    4551.000000  4551.000000   4551.000000  \nmean      310.150516  1970.795649    808.564052  \nstd       461.987629    29.760073    979.421487  \nmin         0.000000  1900.000000      0.000000  \n25%         0.000000  1951.000000      0.000000  \n50%         0.000000  1976.000000      0.000000  \n75%       600.000000  1997.000000   1999.000000  \nmax      4820.000000  2014.000000   2014.000000  ",
      "text/html": "<div>\n<style scoped>\n    .dataframe tbody tr th:only-of-type {\n        vertical-align: middle;\n    }\n\n    .dataframe tbody tr th {\n        vertical-align: top;\n    }\n\n    .dataframe thead th {\n        text-align: right;\n    }\n</style>\n<table border=\"1\" class=\"dataframe\">\n  <thead>\n    <tr style=\"text-align: right;\">\n      <th></th>\n      <th>price</th>\n      <th>bedrooms</th>\n      <th>bathrooms</th>\n      <th>sqft_living</th>\n      <th>sqft_lot</th>\n      <th>floors</th>\n      <th>waterfront</th>\n      <th>view</th>\n      <th>condition</th>\n      <th>sqft_above</th>\n      <th>sqft_basement</th>\n      <th>yr_built</th>\n      <th>yr_renovated</th>\n    </tr>\n  </thead>\n  <tbody>\n    <tr>\n      <th>count</th>\n      <td>4.551000e+03</td>\n      <td>4551.000000</td>\n      <td>4551.000000</td>\n      <td>4551.000000</td>\n      <td>4.551000e+03</td>\n      <td>4551.000000</td>\n      <td>4551.000000</td>\n      <td>4551.000000</td>\n      <td>4551.000000</td>\n      <td>4551.000000</td>\n      <td>4551.000000</td>\n      <td>4551.000000</td>\n      <td>4551.000000</td>\n    </tr>\n    <tr>\n      <th>mean</th>\n      <td>5.579059e+05</td>\n      <td>3.394639</td>\n      <td>2.155021</td>\n      <td>2132.372226</td>\n      <td>1.483528e+04</td>\n      <td>1.512195</td>\n      <td>0.006592</td>\n      <td>0.234674</td>\n      <td>3.449352</td>\n      <td>1822.221710</td>\n      <td>310.150516</td>\n      <td>1970.795649</td>\n      <td>808.564052</td>\n    </tr>\n    <tr>\n      <th>std</th>\n      <td>5.639299e+05</td>\n      <td>0.904595</td>\n      <td>0.776351</td>\n      <td>955.949708</td>\n      <td>3.596408e+04</td>\n      <td>0.538531</td>\n      <td>0.080932</td>\n      <td>0.765373</td>\n      <td>0.675160</td>\n      <td>854.452888</td>\n      <td>461.987629</td>\n      <td>29.760073</td>\n      <td>979.421487</td>\n    </tr>\n    <tr>\n      <th>min</th>\n      <td>7.800000e+03</td>\n      <td>0.000000</td>\n      <td>0.000000</td>\n      <td>370.000000</td>\n      <td>6.380000e+02</td>\n      <td>1.000000</td>\n      <td>0.000000</td>\n      <td>0.000000</td>\n      <td>1.000000</td>\n      <td>370.000000</td>\n      <td>0.000000</td>\n      <td>1900.000000</td>\n      <td>0.000000</td>\n    </tr>\n    <tr>\n      <th>25%</th>\n      <td>3.262643e+05</td>\n      <td>3.000000</td>\n      <td>1.750000</td>\n      <td>1460.000000</td>\n      <td>5.000000e+03</td>\n      <td>1.000000</td>\n      <td>0.000000</td>\n      <td>0.000000</td>\n      <td>3.000000</td>\n      <td>1190.000000</td>\n      <td>0.000000</td>\n      <td>1951.000000</td>\n      <td>0.000000</td>\n    </tr>\n    <tr>\n      <th>50%</th>\n      <td>4.650000e+05</td>\n      <td>3.000000</td>\n      <td>2.250000</td>\n      <td>1970.000000</td>\n      <td>7.680000e+03</td>\n      <td>1.500000</td>\n      <td>0.000000</td>\n      <td>0.000000</td>\n      <td>3.000000</td>\n      <td>1590.000000</td>\n      <td>0.000000</td>\n      <td>1976.000000</td>\n      <td>0.000000</td>\n    </tr>\n    <tr>\n      <th>75%</th>\n      <td>6.575000e+05</td>\n      <td>4.000000</td>\n      <td>2.500000</td>\n      <td>2610.000000</td>\n      <td>1.097800e+04</td>\n      <td>2.000000</td>\n      <td>0.000000</td>\n      <td>0.000000</td>\n      <td>4.000000</td>\n      <td>2300.000000</td>\n      <td>600.000000</td>\n      <td>1997.000000</td>\n      <td>1999.000000</td>\n    </tr>\n    <tr>\n      <th>max</th>\n      <td>2.659000e+07</td>\n      <td>9.000000</td>\n      <td>8.000000</td>\n      <td>13540.000000</td>\n      <td>1.074218e+06</td>\n      <td>3.500000</td>\n      <td>1.000000</td>\n      <td>4.000000</td>\n      <td>5.000000</td>\n      <td>9410.000000</td>\n      <td>4820.000000</td>\n      <td>2014.000000</td>\n      <td>2014.000000</td>\n    </tr>\n  </tbody>\n</table>\n</div>"
     },
     "metadata": {},
     "execution_count": 8
    }
   ],
   "source": [
    "house_data.describe()"
   ]
  },
  {
   "cell_type": "markdown",
   "metadata": {},
   "source": [
    "## Feature Engineering"
   ]
  },
  {
   "cell_type": "markdown",
   "metadata": {},
   "source": [
    "Something I noticed right away is that each house has a yr_built and yr_renovated feature. Perhaps creating a binary 'renovated' column may provide further insights"
   ]
  },
  {
   "cell_type": "code",
   "execution_count": 9,
   "metadata": {},
   "outputs": [],
   "source": [
    "#create column 'renovated' with values 0 or 1, where 1 indicates that a house was renovated\n",
    "\n",
    "house_data['renovated'] = house_data['yr_renovated'].apply(lambda x: 0 if (x == 0) else 1).astype('int64')"
   ]
  },
  {
   "cell_type": "code",
   "execution_count": 10,
   "metadata": {},
   "outputs": [
    {
     "output_type": "execute_result",
     "data": {
      "text/plain": "                  date      price  bedrooms  bathrooms  sqft_living  sqft_lot  \\\n0  2014-05-02 00:00:00   313000.0       3.0       1.50         1340      7912   \n1  2014-05-02 00:00:00  2384000.0       5.0       2.50         3650      9050   \n2  2014-05-02 00:00:00   342000.0       3.0       2.00         1930     11947   \n3  2014-05-02 00:00:00   420000.0       3.0       2.25         2000      8030   \n4  2014-05-02 00:00:00   550000.0       4.0       2.50         1940     10500   \n\n   floors  waterfront  view  condition  sqft_above  sqft_basement  yr_built  \\\n0     1.5           0     0          3        1340              0      1955   \n1     2.0           0     4          5        3370            280      1921   \n2     1.0           0     0          4        1930              0      1966   \n3     1.0           0     0          4        1000           1000      1963   \n4     1.0           0     0          4        1140            800      1976   \n\n   yr_renovated                    street       city  statezip country  \\\n0          2005      18810 Densmore Ave N  Shoreline  WA 98133     USA   \n1             0           709 W Blaine St    Seattle  WA 98119     USA   \n2             0  26206-26214 143rd Ave SE       Kent  WA 98042     USA   \n3             0           857 170th Pl NE   Bellevue  WA 98008     USA   \n4          1992         9105 170th Ave NE    Redmond  WA 98052     USA   \n\n   renovated  \n0          1  \n1          0  \n2          0  \n3          0  \n4          1  ",
      "text/html": "<div>\n<style scoped>\n    .dataframe tbody tr th:only-of-type {\n        vertical-align: middle;\n    }\n\n    .dataframe tbody tr th {\n        vertical-align: top;\n    }\n\n    .dataframe thead th {\n        text-align: right;\n    }\n</style>\n<table border=\"1\" class=\"dataframe\">\n  <thead>\n    <tr style=\"text-align: right;\">\n      <th></th>\n      <th>date</th>\n      <th>price</th>\n      <th>bedrooms</th>\n      <th>bathrooms</th>\n      <th>sqft_living</th>\n      <th>sqft_lot</th>\n      <th>floors</th>\n      <th>waterfront</th>\n      <th>view</th>\n      <th>condition</th>\n      <th>sqft_above</th>\n      <th>sqft_basement</th>\n      <th>yr_built</th>\n      <th>yr_renovated</th>\n      <th>street</th>\n      <th>city</th>\n      <th>statezip</th>\n      <th>country</th>\n      <th>renovated</th>\n    </tr>\n  </thead>\n  <tbody>\n    <tr>\n      <th>0</th>\n      <td>2014-05-02 00:00:00</td>\n      <td>313000.0</td>\n      <td>3.0</td>\n      <td>1.50</td>\n      <td>1340</td>\n      <td>7912</td>\n      <td>1.5</td>\n      <td>0</td>\n      <td>0</td>\n      <td>3</td>\n      <td>1340</td>\n      <td>0</td>\n      <td>1955</td>\n      <td>2005</td>\n      <td>18810 Densmore Ave N</td>\n      <td>Shoreline</td>\n      <td>WA 98133</td>\n      <td>USA</td>\n      <td>1</td>\n    </tr>\n    <tr>\n      <th>1</th>\n      <td>2014-05-02 00:00:00</td>\n      <td>2384000.0</td>\n      <td>5.0</td>\n      <td>2.50</td>\n      <td>3650</td>\n      <td>9050</td>\n      <td>2.0</td>\n      <td>0</td>\n      <td>4</td>\n      <td>5</td>\n      <td>3370</td>\n      <td>280</td>\n      <td>1921</td>\n      <td>0</td>\n      <td>709 W Blaine St</td>\n      <td>Seattle</td>\n      <td>WA 98119</td>\n      <td>USA</td>\n      <td>0</td>\n    </tr>\n    <tr>\n      <th>2</th>\n      <td>2014-05-02 00:00:00</td>\n      <td>342000.0</td>\n      <td>3.0</td>\n      <td>2.00</td>\n      <td>1930</td>\n      <td>11947</td>\n      <td>1.0</td>\n      <td>0</td>\n      <td>0</td>\n      <td>4</td>\n      <td>1930</td>\n      <td>0</td>\n      <td>1966</td>\n      <td>0</td>\n      <td>26206-26214 143rd Ave SE</td>\n      <td>Kent</td>\n      <td>WA 98042</td>\n      <td>USA</td>\n      <td>0</td>\n    </tr>\n    <tr>\n      <th>3</th>\n      <td>2014-05-02 00:00:00</td>\n      <td>420000.0</td>\n      <td>3.0</td>\n      <td>2.25</td>\n      <td>2000</td>\n      <td>8030</td>\n      <td>1.0</td>\n      <td>0</td>\n      <td>0</td>\n      <td>4</td>\n      <td>1000</td>\n      <td>1000</td>\n      <td>1963</td>\n      <td>0</td>\n      <td>857 170th Pl NE</td>\n      <td>Bellevue</td>\n      <td>WA 98008</td>\n      <td>USA</td>\n      <td>0</td>\n    </tr>\n    <tr>\n      <th>4</th>\n      <td>2014-05-02 00:00:00</td>\n      <td>550000.0</td>\n      <td>4.0</td>\n      <td>2.50</td>\n      <td>1940</td>\n      <td>10500</td>\n      <td>1.0</td>\n      <td>0</td>\n      <td>0</td>\n      <td>4</td>\n      <td>1140</td>\n      <td>800</td>\n      <td>1976</td>\n      <td>1992</td>\n      <td>9105 170th Ave NE</td>\n      <td>Redmond</td>\n      <td>WA 98052</td>\n      <td>USA</td>\n      <td>1</td>\n    </tr>\n  </tbody>\n</table>\n</div>"
     },
     "metadata": {},
     "execution_count": 10
    }
   ],
   "source": [
    "house_data.head()"
   ]
  },
  {
   "cell_type": "markdown",
   "metadata": {},
   "source": [
    "## Visualizations "
   ]
  },
  {
   "cell_type": "code",
   "execution_count": 11,
   "metadata": {},
   "outputs": [],
   "source": [
    "import seaborn as sns\n",
    "import matplotlib.pyplot as plt \n"
   ]
  },
  {
   "cell_type": "code",
   "execution_count": 12,
   "metadata": {},
   "outputs": [
    {
     "output_type": "execute_result",
     "data": {
      "text/plain": "<matplotlib.axes._subplots.AxesSubplot at 0x130a04df0>"
     },
     "metadata": {},
     "execution_count": 12
    },
    {
     "output_type": "display_data",
     "data": {
      "text/plain": "<Figure size 864x576 with 1 Axes>",
      "image/svg+xml": "<?xml version=\"1.0\" encoding=\"utf-8\" standalone=\"no\"?>\n<!DOCTYPE svg PUBLIC \"-//W3C//DTD SVG 1.1//EN\"\n  \"http://www.w3.org/Graphics/SVG/1.1/DTD/svg11.dtd\">\n<!-- Created with matplotlib (https://matplotlib.org/) -->\n<svg height=\"479.63625pt\" version=\"1.1\" viewBox=\"0 0 730.128125 479.63625\" width=\"730.128125pt\" xmlns=\"http://www.w3.org/2000/svg\" xmlns:xlink=\"http://www.w3.org/1999/xlink\">\n <defs>\n  <style type=\"text/css\">\n*{stroke-linecap:butt;stroke-linejoin:round;}\n  </style>\n </defs>\n <g id=\"figure_1\">\n  <g id=\"patch_1\">\n   <path d=\"M 0 479.63625 \nL 730.128125 479.63625 \nL 730.128125 0 \nL 0 0 \nz\n\" style=\"fill:none;\"/>\n  </g>\n  <g id=\"axes_1\">\n   <g id=\"patch_2\">\n    <path d=\"M 53.328125 442.08 \nL 722.928125 442.08 \nL 722.928125 7.2 \nL 53.328125 7.2 \nz\n\" style=\"fill:#ffffff;\"/>\n   </g>\n   <g id=\"patch_3\">\n    <path clip-path=\"url(#p43dfee77b6)\" d=\"M 86.808125 442.08 \nL 354.648125 442.08 \nL 354.648125 27.908571 \nL 86.808125 27.908571 \nz\n\" style=\"fill:#3274a1;\"/>\n   </g>\n   <g id=\"patch_4\">\n    <path clip-path=\"url(#p43dfee77b6)\" d=\"M 421.608125 442.08 \nL 689.448125 442.08 \nL 689.448125 159.69039 \nL 421.608125 159.69039 \nz\n\" style=\"fill:#e1812c;\"/>\n   </g>\n   <g id=\"matplotlib.axis_1\">\n    <g id=\"xtick_1\">\n     <g id=\"line2d_1\">\n      <defs>\n       <path d=\"M 0 0 \nL 0 3.5 \n\" id=\"ma5ac663e61\" style=\"stroke:#000000;stroke-width:0.8;\"/>\n      </defs>\n      <g>\n       <use style=\"stroke:#000000;stroke-width:0.8;\" x=\"220.728125\" xlink:href=\"#ma5ac663e61\" y=\"442.08\"/>\n      </g>\n     </g>\n     <g id=\"text_1\">\n      <!-- 0 -->\n      <defs>\n       <path d=\"M 31.78125 66.40625 \nQ 24.171875 66.40625 20.328125 58.90625 \nQ 16.5 51.421875 16.5 36.375 \nQ 16.5 21.390625 20.328125 13.890625 \nQ 24.171875 6.390625 31.78125 6.390625 \nQ 39.453125 6.390625 43.28125 13.890625 \nQ 47.125 21.390625 47.125 36.375 \nQ 47.125 51.421875 43.28125 58.90625 \nQ 39.453125 66.40625 31.78125 66.40625 \nz\nM 31.78125 74.21875 \nQ 44.046875 74.21875 50.515625 64.515625 \nQ 56.984375 54.828125 56.984375 36.375 \nQ 56.984375 17.96875 50.515625 8.265625 \nQ 44.046875 -1.421875 31.78125 -1.421875 \nQ 19.53125 -1.421875 13.0625 8.265625 \nQ 6.59375 17.96875 6.59375 36.375 \nQ 6.59375 54.828125 13.0625 64.515625 \nQ 19.53125 74.21875 31.78125 74.21875 \nz\n\" id=\"DejaVuSans-48\"/>\n      </defs>\n      <g transform=\"translate(217.546875 456.678437)scale(0.1 -0.1)\">\n       <use xlink:href=\"#DejaVuSans-48\"/>\n      </g>\n     </g>\n    </g>\n    <g id=\"xtick_2\">\n     <g id=\"line2d_2\">\n      <g>\n       <use style=\"stroke:#000000;stroke-width:0.8;\" x=\"555.528125\" xlink:href=\"#ma5ac663e61\" y=\"442.08\"/>\n      </g>\n     </g>\n     <g id=\"text_2\">\n      <!-- 1 -->\n      <defs>\n       <path d=\"M 12.40625 8.296875 \nL 28.515625 8.296875 \nL 28.515625 63.921875 \nL 10.984375 60.40625 \nL 10.984375 69.390625 \nL 28.421875 72.90625 \nL 38.28125 72.90625 \nL 38.28125 8.296875 \nL 54.390625 8.296875 \nL 54.390625 0 \nL 12.40625 0 \nz\n\" id=\"DejaVuSans-49\"/>\n      </defs>\n      <g transform=\"translate(552.346875 456.678437)scale(0.1 -0.1)\">\n       <use xlink:href=\"#DejaVuSans-49\"/>\n      </g>\n     </g>\n    </g>\n    <g id=\"text_3\">\n     <!-- renovated -->\n     <defs>\n      <path d=\"M 41.109375 46.296875 \nQ 39.59375 47.171875 37.8125 47.578125 \nQ 36.03125 48 33.890625 48 \nQ 26.265625 48 22.1875 43.046875 \nQ 18.109375 38.09375 18.109375 28.8125 \nL 18.109375 0 \nL 9.078125 0 \nL 9.078125 54.6875 \nL 18.109375 54.6875 \nL 18.109375 46.1875 \nQ 20.953125 51.171875 25.484375 53.578125 \nQ 30.03125 56 36.53125 56 \nQ 37.453125 56 38.578125 55.875 \nQ 39.703125 55.765625 41.0625 55.515625 \nz\n\" id=\"DejaVuSans-114\"/>\n      <path d=\"M 56.203125 29.59375 \nL 56.203125 25.203125 \nL 14.890625 25.203125 \nQ 15.484375 15.921875 20.484375 11.0625 \nQ 25.484375 6.203125 34.421875 6.203125 \nQ 39.59375 6.203125 44.453125 7.46875 \nQ 49.3125 8.734375 54.109375 11.28125 \nL 54.109375 2.78125 \nQ 49.265625 0.734375 44.1875 -0.34375 \nQ 39.109375 -1.421875 33.890625 -1.421875 \nQ 20.796875 -1.421875 13.15625 6.1875 \nQ 5.515625 13.8125 5.515625 26.8125 \nQ 5.515625 40.234375 12.765625 48.109375 \nQ 20.015625 56 32.328125 56 \nQ 43.359375 56 49.78125 48.890625 \nQ 56.203125 41.796875 56.203125 29.59375 \nz\nM 47.21875 32.234375 \nQ 47.125 39.59375 43.09375 43.984375 \nQ 39.0625 48.390625 32.421875 48.390625 \nQ 24.90625 48.390625 20.390625 44.140625 \nQ 15.875 39.890625 15.1875 32.171875 \nz\n\" id=\"DejaVuSans-101\"/>\n      <path d=\"M 54.890625 33.015625 \nL 54.890625 0 \nL 45.90625 0 \nL 45.90625 32.71875 \nQ 45.90625 40.484375 42.875 44.328125 \nQ 39.84375 48.1875 33.796875 48.1875 \nQ 26.515625 48.1875 22.3125 43.546875 \nQ 18.109375 38.921875 18.109375 30.90625 \nL 18.109375 0 \nL 9.078125 0 \nL 9.078125 54.6875 \nL 18.109375 54.6875 \nL 18.109375 46.1875 \nQ 21.34375 51.125 25.703125 53.5625 \nQ 30.078125 56 35.796875 56 \nQ 45.21875 56 50.046875 50.171875 \nQ 54.890625 44.34375 54.890625 33.015625 \nz\n\" id=\"DejaVuSans-110\"/>\n      <path d=\"M 30.609375 48.390625 \nQ 23.390625 48.390625 19.1875 42.75 \nQ 14.984375 37.109375 14.984375 27.296875 \nQ 14.984375 17.484375 19.15625 11.84375 \nQ 23.34375 6.203125 30.609375 6.203125 \nQ 37.796875 6.203125 41.984375 11.859375 \nQ 46.1875 17.53125 46.1875 27.296875 \nQ 46.1875 37.015625 41.984375 42.703125 \nQ 37.796875 48.390625 30.609375 48.390625 \nz\nM 30.609375 56 \nQ 42.328125 56 49.015625 48.375 \nQ 55.71875 40.765625 55.71875 27.296875 \nQ 55.71875 13.875 49.015625 6.21875 \nQ 42.328125 -1.421875 30.609375 -1.421875 \nQ 18.84375 -1.421875 12.171875 6.21875 \nQ 5.515625 13.875 5.515625 27.296875 \nQ 5.515625 40.765625 12.171875 48.375 \nQ 18.84375 56 30.609375 56 \nz\n\" id=\"DejaVuSans-111\"/>\n      <path d=\"M 2.984375 54.6875 \nL 12.5 54.6875 \nL 29.59375 8.796875 \nL 46.6875 54.6875 \nL 56.203125 54.6875 \nL 35.6875 0 \nL 23.484375 0 \nz\n\" id=\"DejaVuSans-118\"/>\n      <path d=\"M 34.28125 27.484375 \nQ 23.390625 27.484375 19.1875 25 \nQ 14.984375 22.515625 14.984375 16.5 \nQ 14.984375 11.71875 18.140625 8.90625 \nQ 21.296875 6.109375 26.703125 6.109375 \nQ 34.1875 6.109375 38.703125 11.40625 \nQ 43.21875 16.703125 43.21875 25.484375 \nL 43.21875 27.484375 \nz\nM 52.203125 31.203125 \nL 52.203125 0 \nL 43.21875 0 \nL 43.21875 8.296875 \nQ 40.140625 3.328125 35.546875 0.953125 \nQ 30.953125 -1.421875 24.3125 -1.421875 \nQ 15.921875 -1.421875 10.953125 3.296875 \nQ 6 8.015625 6 15.921875 \nQ 6 25.140625 12.171875 29.828125 \nQ 18.359375 34.515625 30.609375 34.515625 \nL 43.21875 34.515625 \nL 43.21875 35.40625 \nQ 43.21875 41.609375 39.140625 45 \nQ 35.0625 48.390625 27.6875 48.390625 \nQ 23 48.390625 18.546875 47.265625 \nQ 14.109375 46.140625 10.015625 43.890625 \nL 10.015625 52.203125 \nQ 14.9375 54.109375 19.578125 55.046875 \nQ 24.21875 56 28.609375 56 \nQ 40.484375 56 46.34375 49.84375 \nQ 52.203125 43.703125 52.203125 31.203125 \nz\n\" id=\"DejaVuSans-97\"/>\n      <path d=\"M 18.3125 70.21875 \nL 18.3125 54.6875 \nL 36.8125 54.6875 \nL 36.8125 47.703125 \nL 18.3125 47.703125 \nL 18.3125 18.015625 \nQ 18.3125 11.328125 20.140625 9.421875 \nQ 21.96875 7.515625 27.59375 7.515625 \nL 36.8125 7.515625 \nL 36.8125 0 \nL 27.59375 0 \nQ 17.1875 0 13.234375 3.875 \nQ 9.28125 7.765625 9.28125 18.015625 \nL 9.28125 47.703125 \nL 2.6875 47.703125 \nL 2.6875 54.6875 \nL 9.28125 54.6875 \nL 9.28125 70.21875 \nz\n\" id=\"DejaVuSans-116\"/>\n      <path d=\"M 45.40625 46.390625 \nL 45.40625 75.984375 \nL 54.390625 75.984375 \nL 54.390625 0 \nL 45.40625 0 \nL 45.40625 8.203125 \nQ 42.578125 3.328125 38.25 0.953125 \nQ 33.9375 -1.421875 27.875 -1.421875 \nQ 17.96875 -1.421875 11.734375 6.484375 \nQ 5.515625 14.40625 5.515625 27.296875 \nQ 5.515625 40.1875 11.734375 48.09375 \nQ 17.96875 56 27.875 56 \nQ 33.9375 56 38.25 53.625 \nQ 42.578125 51.265625 45.40625 46.390625 \nz\nM 14.796875 27.296875 \nQ 14.796875 17.390625 18.875 11.75 \nQ 22.953125 6.109375 30.078125 6.109375 \nQ 37.203125 6.109375 41.296875 11.75 \nQ 45.40625 17.390625 45.40625 27.296875 \nQ 45.40625 37.203125 41.296875 42.84375 \nQ 37.203125 48.484375 30.078125 48.484375 \nQ 22.953125 48.484375 18.875 42.84375 \nQ 14.796875 37.203125 14.796875 27.296875 \nz\n\" id=\"DejaVuSans-100\"/>\n     </defs>\n     <g transform=\"translate(362.646094 470.356562)scale(0.1 -0.1)\">\n      <use xlink:href=\"#DejaVuSans-114\"/>\n      <use x=\"38.863281\" xlink:href=\"#DejaVuSans-101\"/>\n      <use x=\"100.386719\" xlink:href=\"#DejaVuSans-110\"/>\n      <use x=\"163.765625\" xlink:href=\"#DejaVuSans-111\"/>\n      <use x=\"224.947266\" xlink:href=\"#DejaVuSans-118\"/>\n      <use x=\"284.126953\" xlink:href=\"#DejaVuSans-97\"/>\n      <use x=\"345.40625\" xlink:href=\"#DejaVuSans-116\"/>\n      <use x=\"384.615234\" xlink:href=\"#DejaVuSans-101\"/>\n      <use x=\"446.138672\" xlink:href=\"#DejaVuSans-100\"/>\n     </g>\n    </g>\n   </g>\n   <g id=\"matplotlib.axis_2\">\n    <g id=\"ytick_1\">\n     <g id=\"line2d_3\">\n      <defs>\n       <path d=\"M 0 0 \nL -3.5 0 \n\" id=\"ma79b1657df\" style=\"stroke:#000000;stroke-width:0.8;\"/>\n      </defs>\n      <g>\n       <use style=\"stroke:#000000;stroke-width:0.8;\" x=\"53.328125\" xlink:href=\"#ma79b1657df\" y=\"442.08\"/>\n      </g>\n     </g>\n     <g id=\"text_4\">\n      <!-- 0 -->\n      <g transform=\"translate(39.965625 445.879219)scale(0.1 -0.1)\">\n       <use xlink:href=\"#DejaVuSans-48\"/>\n      </g>\n     </g>\n    </g>\n    <g id=\"ytick_2\">\n     <g id=\"line2d_4\">\n      <g>\n       <use style=\"stroke:#000000;stroke-width:0.8;\" x=\"53.328125\" xlink:href=\"#ma79b1657df\" y=\"365.55165\"/>\n      </g>\n     </g>\n     <g id=\"text_5\">\n      <!-- 500 -->\n      <defs>\n       <path d=\"M 10.796875 72.90625 \nL 49.515625 72.90625 \nL 49.515625 64.59375 \nL 19.828125 64.59375 \nL 19.828125 46.734375 \nQ 21.96875 47.46875 24.109375 47.828125 \nQ 26.265625 48.1875 28.421875 48.1875 \nQ 40.625 48.1875 47.75 41.5 \nQ 54.890625 34.8125 54.890625 23.390625 \nQ 54.890625 11.625 47.5625 5.09375 \nQ 40.234375 -1.421875 26.90625 -1.421875 \nQ 22.3125 -1.421875 17.546875 -0.640625 \nQ 12.796875 0.140625 7.71875 1.703125 \nL 7.71875 11.625 \nQ 12.109375 9.234375 16.796875 8.0625 \nQ 21.484375 6.890625 26.703125 6.890625 \nQ 35.15625 6.890625 40.078125 11.328125 \nQ 45.015625 15.765625 45.015625 23.390625 \nQ 45.015625 31 40.078125 35.4375 \nQ 35.15625 39.890625 26.703125 39.890625 \nQ 22.75 39.890625 18.8125 39.015625 \nQ 14.890625 38.140625 10.796875 36.28125 \nz\n\" id=\"DejaVuSans-53\"/>\n      </defs>\n      <g transform=\"translate(27.240625 369.350869)scale(0.1 -0.1)\">\n       <use xlink:href=\"#DejaVuSans-53\"/>\n       <use x=\"63.623047\" xlink:href=\"#DejaVuSans-48\"/>\n       <use x=\"127.246094\" xlink:href=\"#DejaVuSans-48\"/>\n      </g>\n     </g>\n    </g>\n    <g id=\"ytick_3\">\n     <g id=\"line2d_5\">\n      <g>\n       <use style=\"stroke:#000000;stroke-width:0.8;\" x=\"53.328125\" xlink:href=\"#ma79b1657df\" y=\"289.023301\"/>\n      </g>\n     </g>\n     <g id=\"text_6\">\n      <!-- 1000 -->\n      <g transform=\"translate(20.878125 292.822519)scale(0.1 -0.1)\">\n       <use xlink:href=\"#DejaVuSans-49\"/>\n       <use x=\"63.623047\" xlink:href=\"#DejaVuSans-48\"/>\n       <use x=\"127.246094\" xlink:href=\"#DejaVuSans-48\"/>\n       <use x=\"190.869141\" xlink:href=\"#DejaVuSans-48\"/>\n      </g>\n     </g>\n    </g>\n    <g id=\"ytick_4\">\n     <g id=\"line2d_6\">\n      <g>\n       <use style=\"stroke:#000000;stroke-width:0.8;\" x=\"53.328125\" xlink:href=\"#ma79b1657df\" y=\"212.494951\"/>\n      </g>\n     </g>\n     <g id=\"text_7\">\n      <!-- 1500 -->\n      <g transform=\"translate(20.878125 216.29417)scale(0.1 -0.1)\">\n       <use xlink:href=\"#DejaVuSans-49\"/>\n       <use x=\"63.623047\" xlink:href=\"#DejaVuSans-53\"/>\n       <use x=\"127.246094\" xlink:href=\"#DejaVuSans-48\"/>\n       <use x=\"190.869141\" xlink:href=\"#DejaVuSans-48\"/>\n      </g>\n     </g>\n    </g>\n    <g id=\"ytick_5\">\n     <g id=\"line2d_7\">\n      <g>\n       <use style=\"stroke:#000000;stroke-width:0.8;\" x=\"53.328125\" xlink:href=\"#ma79b1657df\" y=\"135.966601\"/>\n      </g>\n     </g>\n     <g id=\"text_8\">\n      <!-- 2000 -->\n      <defs>\n       <path d=\"M 19.1875 8.296875 \nL 53.609375 8.296875 \nL 53.609375 0 \nL 7.328125 0 \nL 7.328125 8.296875 \nQ 12.9375 14.109375 22.625 23.890625 \nQ 32.328125 33.6875 34.8125 36.53125 \nQ 39.546875 41.84375 41.421875 45.53125 \nQ 43.3125 49.21875 43.3125 52.78125 \nQ 43.3125 58.59375 39.234375 62.25 \nQ 35.15625 65.921875 28.609375 65.921875 \nQ 23.96875 65.921875 18.8125 64.3125 \nQ 13.671875 62.703125 7.8125 59.421875 \nL 7.8125 69.390625 \nQ 13.765625 71.78125 18.9375 73 \nQ 24.125 74.21875 28.421875 74.21875 \nQ 39.75 74.21875 46.484375 68.546875 \nQ 53.21875 62.890625 53.21875 53.421875 \nQ 53.21875 48.921875 51.53125 44.890625 \nQ 49.859375 40.875 45.40625 35.40625 \nQ 44.1875 33.984375 37.640625 27.21875 \nQ 31.109375 20.453125 19.1875 8.296875 \nz\n\" id=\"DejaVuSans-50\"/>\n      </defs>\n      <g transform=\"translate(20.878125 139.76582)scale(0.1 -0.1)\">\n       <use xlink:href=\"#DejaVuSans-50\"/>\n       <use x=\"63.623047\" xlink:href=\"#DejaVuSans-48\"/>\n       <use x=\"127.246094\" xlink:href=\"#DejaVuSans-48\"/>\n       <use x=\"190.869141\" xlink:href=\"#DejaVuSans-48\"/>\n      </g>\n     </g>\n    </g>\n    <g id=\"ytick_6\">\n     <g id=\"line2d_8\">\n      <g>\n       <use style=\"stroke:#000000;stroke-width:0.8;\" x=\"53.328125\" xlink:href=\"#ma79b1657df\" y=\"59.438252\"/>\n      </g>\n     </g>\n     <g id=\"text_9\">\n      <!-- 2500 -->\n      <g transform=\"translate(20.878125 63.23747)scale(0.1 -0.1)\">\n       <use xlink:href=\"#DejaVuSans-50\"/>\n       <use x=\"63.623047\" xlink:href=\"#DejaVuSans-53\"/>\n       <use x=\"127.246094\" xlink:href=\"#DejaVuSans-48\"/>\n       <use x=\"190.869141\" xlink:href=\"#DejaVuSans-48\"/>\n      </g>\n     </g>\n    </g>\n    <g id=\"text_10\">\n     <!-- count -->\n     <defs>\n      <path d=\"M 48.78125 52.59375 \nL 48.78125 44.1875 \nQ 44.96875 46.296875 41.140625 47.34375 \nQ 37.3125 48.390625 33.40625 48.390625 \nQ 24.65625 48.390625 19.8125 42.84375 \nQ 14.984375 37.3125 14.984375 27.296875 \nQ 14.984375 17.28125 19.8125 11.734375 \nQ 24.65625 6.203125 33.40625 6.203125 \nQ 37.3125 6.203125 41.140625 7.25 \nQ 44.96875 8.296875 48.78125 10.40625 \nL 48.78125 2.09375 \nQ 45.015625 0.34375 40.984375 -0.53125 \nQ 36.96875 -1.421875 32.421875 -1.421875 \nQ 20.0625 -1.421875 12.78125 6.34375 \nQ 5.515625 14.109375 5.515625 27.296875 \nQ 5.515625 40.671875 12.859375 48.328125 \nQ 20.21875 56 33.015625 56 \nQ 37.15625 56 41.109375 55.140625 \nQ 45.0625 54.296875 48.78125 52.59375 \nz\n\" id=\"DejaVuSans-99\"/>\n      <path d=\"M 8.5 21.578125 \nL 8.5 54.6875 \nL 17.484375 54.6875 \nL 17.484375 21.921875 \nQ 17.484375 14.15625 20.5 10.265625 \nQ 23.53125 6.390625 29.59375 6.390625 \nQ 36.859375 6.390625 41.078125 11.03125 \nQ 45.3125 15.671875 45.3125 23.6875 \nL 45.3125 54.6875 \nL 54.296875 54.6875 \nL 54.296875 0 \nL 45.3125 0 \nL 45.3125 8.40625 \nQ 42.046875 3.421875 37.71875 1 \nQ 33.40625 -1.421875 27.6875 -1.421875 \nQ 18.265625 -1.421875 13.375 4.4375 \nQ 8.5 10.296875 8.5 21.578125 \nz\nM 31.109375 56 \nz\n\" id=\"DejaVuSans-117\"/>\n     </defs>\n     <g transform=\"translate(14.798438 238.74625)rotate(-90)scale(0.1 -0.1)\">\n      <use xlink:href=\"#DejaVuSans-99\"/>\n      <use x=\"54.980469\" xlink:href=\"#DejaVuSans-111\"/>\n      <use x=\"116.162109\" xlink:href=\"#DejaVuSans-117\"/>\n      <use x=\"179.541016\" xlink:href=\"#DejaVuSans-110\"/>\n      <use x=\"242.919922\" xlink:href=\"#DejaVuSans-116\"/>\n     </g>\n    </g>\n   </g>\n   <g id=\"patch_5\">\n    <path d=\"M 53.328125 442.08 \nL 53.328125 7.2 \n\" style=\"fill:none;stroke:#000000;stroke-linecap:square;stroke-linejoin:miter;stroke-width:0.8;\"/>\n   </g>\n   <g id=\"patch_6\">\n    <path d=\"M 722.928125 442.08 \nL 722.928125 7.2 \n\" style=\"fill:none;stroke:#000000;stroke-linecap:square;stroke-linejoin:miter;stroke-width:0.8;\"/>\n   </g>\n   <g id=\"patch_7\">\n    <path d=\"M 53.328125 442.08 \nL 722.928125 442.08 \n\" style=\"fill:none;stroke:#000000;stroke-linecap:square;stroke-linejoin:miter;stroke-width:0.8;\"/>\n   </g>\n   <g id=\"patch_8\">\n    <path d=\"M 53.328125 7.2 \nL 722.928125 7.2 \n\" style=\"fill:none;stroke:#000000;stroke-linecap:square;stroke-linejoin:miter;stroke-width:0.8;\"/>\n   </g>\n  </g>\n </g>\n <defs>\n  <clipPath id=\"p43dfee77b6\">\n   <rect height=\"434.88\" width=\"669.6\" x=\"53.328125\" y=\"7.2\"/>\n  </clipPath>\n </defs>\n</svg>\n",
      "image/png": "[encoded data removed]"
     },
     "metadata": {
      "needs_background": "light"
     }
    }
   ],
   "source": [
    "plt.figure(figsize=(12, 8))\n",
    "\n",
    "sns.countplot(x='renovated', data=house_data)"
   ]
  },
  {
   "cell_type": "code",
   "execution_count": null,
   "metadata": {},
   "outputs": [],
   "source": []
  }
 ]
}