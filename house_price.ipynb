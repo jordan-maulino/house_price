{
 "metadata": {
  "language_info": {
   "codemirror_mode": {
    "name": "ipython",
    "version": 3
   },
   "file_extension": ".py",
   "mimetype": "text/x-python",
   "name": "python",
   "nbconvert_exporter": "python",
   "pygments_lexer": "ipython3",
   "version": "3.8.3-final"
  },
  "orig_nbformat": 2,
  "kernelspec": {
   "name": "python3",
   "display_name": "Python 3"
  }
 },
 "nbformat": 4,
 "nbformat_minor": 2,
 "cells": [
  {
   "cell_type": "code",
   "execution_count": 1,
   "metadata": {},
   "outputs": [
    {
     "output_type": "execute_result",
     "data": {
      "text/plain": "                  date      price  bedrooms  ...       city  statezip  country\n0  2014-05-02 00:00:00   313000.0       3.0  ...  Shoreline  WA 98133      USA\n1  2014-05-02 00:00:00  2384000.0       5.0  ...    Seattle  WA 98119      USA\n2  2014-05-02 00:00:00   342000.0       3.0  ...       Kent  WA 98042      USA\n3  2014-05-02 00:00:00   420000.0       3.0  ...   Bellevue  WA 98008      USA\n4  2014-05-02 00:00:00   550000.0       4.0  ...    Redmond  WA 98052      USA\n\n[5 rows x 18 columns]",
      "text/html": "<div>\n<style scoped>\n    .dataframe tbody tr th:only-of-type {\n        vertical-align: middle;\n    }\n\n    .dataframe tbody tr th {\n        vertical-align: top;\n    }\n\n    .dataframe thead th {\n        text-align: right;\n    }\n</style>\n<table border=\"1\" class=\"dataframe\">\n  <thead>\n    <tr style=\"text-align: right;\">\n      <th></th>\n      <th>date</th>\n      <th>price</th>\n      <th>bedrooms</th>\n      <th>bathrooms</th>\n      <th>sqft_living</th>\n      <th>sqft_lot</th>\n      <th>floors</th>\n      <th>waterfront</th>\n      <th>view</th>\n      <th>condition</th>\n      <th>sqft_above</th>\n      <th>sqft_basement</th>\n      <th>yr_built</th>\n      <th>yr_renovated</th>\n      <th>street</th>\n      <th>city</th>\n      <th>statezip</th>\n      <th>country</th>\n    </tr>\n  </thead>\n  <tbody>\n    <tr>\n      <th>0</th>\n      <td>2014-05-02 00:00:00</td>\n      <td>313000.0</td>\n      <td>3.0</td>\n      <td>1.50</td>\n      <td>1340</td>\n      <td>7912</td>\n      <td>1.5</td>\n      <td>0</td>\n      <td>0</td>\n      <td>3</td>\n      <td>1340</td>\n      <td>0</td>\n      <td>1955</td>\n      <td>2005</td>\n      <td>18810 Densmore Ave N</td>\n      <td>Shoreline</td>\n      <td>WA 98133</td>\n      <td>USA</td>\n    </tr>\n    <tr>\n      <th>1</th>\n      <td>2014-05-02 00:00:00</td>\n      <td>2384000.0</td>\n      <td>5.0</td>\n      <td>2.50</td>\n      <td>3650</td>\n      <td>9050</td>\n      <td>2.0</td>\n      <td>0</td>\n      <td>4</td>\n      <td>5</td>\n      <td>3370</td>\n      <td>280</td>\n      <td>1921</td>\n      <td>0</td>\n      <td>709 W Blaine St</td>\n      <td>Seattle</td>\n      <td>WA 98119</td>\n      <td>USA</td>\n    </tr>\n    <tr>\n      <th>2</th>\n      <td>2014-05-02 00:00:00</td>\n      <td>342000.0</td>\n      <td>3.0</td>\n      <td>2.00</td>\n      <td>1930</td>\n      <td>11947</td>\n      <td>1.0</td>\n      <td>0</td>\n      <td>0</td>\n      <td>4</td>\n      <td>1930</td>\n      <td>0</td>\n      <td>1966</td>\n      <td>0</td>\n      <td>26206-26214 143rd Ave SE</td>\n      <td>Kent</td>\n      <td>WA 98042</td>\n      <td>USA</td>\n    </tr>\n    <tr>\n      <th>3</th>\n      <td>2014-05-02 00:00:00</td>\n      <td>420000.0</td>\n      <td>3.0</td>\n      <td>2.25</td>\n      <td>2000</td>\n      <td>8030</td>\n      <td>1.0</td>\n      <td>0</td>\n      <td>0</td>\n      <td>4</td>\n      <td>1000</td>\n      <td>1000</td>\n      <td>1963</td>\n      <td>0</td>\n      <td>857 170th Pl NE</td>\n      <td>Bellevue</td>\n      <td>WA 98008</td>\n      <td>USA</td>\n    </tr>\n    <tr>\n      <th>4</th>\n      <td>2014-05-02 00:00:00</td>\n      <td>550000.0</td>\n      <td>4.0</td>\n      <td>2.50</td>\n      <td>1940</td>\n      <td>10500</td>\n      <td>1.0</td>\n      <td>0</td>\n      <td>0</td>\n      <td>4</td>\n      <td>1140</td>\n      <td>800</td>\n      <td>1976</td>\n      <td>1992</td>\n      <td>9105 170th Ave NE</td>\n      <td>Redmond</td>\n      <td>WA 98052</td>\n      <td>USA</td>\n    </tr>\n  </tbody>\n</table>\n</div>"
     },
     "metadata": {},
     "execution_count": 1
    }
   ],
   "source": [
    "import pandas as pd \n",
    "import numpy as np \n",
    "\n",
    "house_data = pd.read_csv(\"data.csv\")\n",
    "\n",
    "house_data.head()"
   ]
  },
  {
   "cell_type": "code",
   "execution_count": 2,
   "metadata": {
    "tags": []
   },
   "outputs": [
    {
     "output_type": "stream",
     "name": "stdout",
     "text": "<class 'pandas.core.frame.DataFrame'>\nRangeIndex: 4600 entries, 0 to 4599\nData columns (total 18 columns):\n #   Column         Non-Null Count  Dtype  \n---  ------         --------------  -----  \n 0   date           4600 non-null   object \n 1   price          4600 non-null   float64\n 2   bedrooms       4600 non-null   float64\n 3   bathrooms      4600 non-null   float64\n 4   sqft_living    4600 non-null   int64  \n 5   sqft_lot       4600 non-null   int64  \n 6   floors         4600 non-null   float64\n 7   waterfront     4600 non-null   int64  \n 8   view           4600 non-null   int64  \n 9   condition      4600 non-null   int64  \n 10  sqft_above     4600 non-null   int64  \n 11  sqft_basement  4600 non-null   int64  \n 12  yr_built       4600 non-null   int64  \n 13  yr_renovated   4600 non-null   int64  \n 14  street         4600 non-null   object \n 15  city           4600 non-null   object \n 16  statezip       4600 non-null   object \n 17  country        4600 non-null   object \ndtypes: float64(4), int64(9), object(5)\nmemory usage: 647.0+ KB\n"
    }
   ],
   "source": [
    "house_data.info()"
   ]
  },
  {
   "cell_type": "code",
   "execution_count": 3,
   "metadata": {},
   "outputs": [
    {
     "output_type": "execute_result",
     "data": {
      "text/plain": "              price     bedrooms  ...     yr_built  yr_renovated\ncount  4.600000e+03  4600.000000  ...  4600.000000   4600.000000\nmean   5.519630e+05     3.400870  ...  1970.786304    808.608261\nstd    5.638347e+05     0.908848  ...    29.731848    979.414536\nmin    0.000000e+00     0.000000  ...  1900.000000      0.000000\n25%    3.228750e+05     3.000000  ...  1951.000000      0.000000\n50%    4.609435e+05     3.000000  ...  1976.000000      0.000000\n75%    6.549625e+05     4.000000  ...  1997.000000   1999.000000\nmax    2.659000e+07     9.000000  ...  2014.000000   2014.000000\n\n[8 rows x 13 columns]",
      "text/html": "<div>\n<style scoped>\n    .dataframe tbody tr th:only-of-type {\n        vertical-align: middle;\n    }\n\n    .dataframe tbody tr th {\n        vertical-align: top;\n    }\n\n    .dataframe thead th {\n        text-align: right;\n    }\n</style>\n<table border=\"1\" class=\"dataframe\">\n  <thead>\n    <tr style=\"text-align: right;\">\n      <th></th>\n      <th>price</th>\n      <th>bedrooms</th>\n      <th>bathrooms</th>\n      <th>sqft_living</th>\n      <th>sqft_lot</th>\n      <th>floors</th>\n      <th>waterfront</th>\n      <th>view</th>\n      <th>condition</th>\n      <th>sqft_above</th>\n      <th>sqft_basement</th>\n      <th>yr_built</th>\n      <th>yr_renovated</th>\n    </tr>\n  </thead>\n  <tbody>\n    <tr>\n      <th>count</th>\n      <td>4.600000e+03</td>\n      <td>4600.000000</td>\n      <td>4600.000000</td>\n      <td>4600.000000</td>\n      <td>4.600000e+03</td>\n      <td>4600.000000</td>\n      <td>4600.000000</td>\n      <td>4600.000000</td>\n      <td>4600.000000</td>\n      <td>4600.000000</td>\n      <td>4600.000000</td>\n      <td>4600.000000</td>\n      <td>4600.000000</td>\n    </tr>\n    <tr>\n      <th>mean</th>\n      <td>5.519630e+05</td>\n      <td>3.400870</td>\n      <td>2.160815</td>\n      <td>2139.346957</td>\n      <td>1.485252e+04</td>\n      <td>1.512065</td>\n      <td>0.007174</td>\n      <td>0.240652</td>\n      <td>3.451739</td>\n      <td>1827.265435</td>\n      <td>312.081522</td>\n      <td>1970.786304</td>\n      <td>808.608261</td>\n    </tr>\n    <tr>\n      <th>std</th>\n      <td>5.638347e+05</td>\n      <td>0.908848</td>\n      <td>0.783781</td>\n      <td>963.206916</td>\n      <td>3.588444e+04</td>\n      <td>0.538288</td>\n      <td>0.084404</td>\n      <td>0.778405</td>\n      <td>0.677230</td>\n      <td>862.168977</td>\n      <td>464.137228</td>\n      <td>29.731848</td>\n      <td>979.414536</td>\n    </tr>\n    <tr>\n      <th>min</th>\n      <td>0.000000e+00</td>\n      <td>0.000000</td>\n      <td>0.000000</td>\n      <td>370.000000</td>\n      <td>6.380000e+02</td>\n      <td>1.000000</td>\n      <td>0.000000</td>\n      <td>0.000000</td>\n      <td>1.000000</td>\n      <td>370.000000</td>\n      <td>0.000000</td>\n      <td>1900.000000</td>\n      <td>0.000000</td>\n    </tr>\n    <tr>\n      <th>25%</th>\n      <td>3.228750e+05</td>\n      <td>3.000000</td>\n      <td>1.750000</td>\n      <td>1460.000000</td>\n      <td>5.000750e+03</td>\n      <td>1.000000</td>\n      <td>0.000000</td>\n      <td>0.000000</td>\n      <td>3.000000</td>\n      <td>1190.000000</td>\n      <td>0.000000</td>\n      <td>1951.000000</td>\n      <td>0.000000</td>\n    </tr>\n    <tr>\n      <th>50%</th>\n      <td>4.609435e+05</td>\n      <td>3.000000</td>\n      <td>2.250000</td>\n      <td>1980.000000</td>\n      <td>7.683000e+03</td>\n      <td>1.500000</td>\n      <td>0.000000</td>\n      <td>0.000000</td>\n      <td>3.000000</td>\n      <td>1590.000000</td>\n      <td>0.000000</td>\n      <td>1976.000000</td>\n      <td>0.000000</td>\n    </tr>\n    <tr>\n      <th>75%</th>\n      <td>6.549625e+05</td>\n      <td>4.000000</td>\n      <td>2.500000</td>\n      <td>2620.000000</td>\n      <td>1.100125e+04</td>\n      <td>2.000000</td>\n      <td>0.000000</td>\n      <td>0.000000</td>\n      <td>4.000000</td>\n      <td>2300.000000</td>\n      <td>610.000000</td>\n      <td>1997.000000</td>\n      <td>1999.000000</td>\n    </tr>\n    <tr>\n      <th>max</th>\n      <td>2.659000e+07</td>\n      <td>9.000000</td>\n      <td>8.000000</td>\n      <td>13540.000000</td>\n      <td>1.074218e+06</td>\n      <td>3.500000</td>\n      <td>1.000000</td>\n      <td>4.000000</td>\n      <td>5.000000</td>\n      <td>9410.000000</td>\n      <td>4820.000000</td>\n      <td>2014.000000</td>\n      <td>2014.000000</td>\n    </tr>\n  </tbody>\n</table>\n</div>"
     },
     "metadata": {},
     "execution_count": 3
    }
   ],
   "source": [
    "house_data.describe()"
   ]
  },
  {
   "cell_type": "code",
   "execution_count": null,
   "metadata": {},
   "outputs": [],
   "source": []
  }
 ]
}